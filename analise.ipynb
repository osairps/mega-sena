{
 "cells": [
  {
   "cell_type": "markdown",
   "metadata": {},
   "source": [
    "# Análise da Mega-Sena\n",
    "\n",
    "## Será que podemos confiar na aleatoriedade do sorteio???\n",
    "\n",
    "Em tempos de Terra Plana, surgiram também dúvidas sobre a idoneidade da Mega-Sena, modalidade de loteria da Caixa. \n",
    "\n",
    "Nesse notebook, iremos testar a probabilidade dos números da sorte da Mega, por meio da **Lei dos Grandes Números**. "
   ]
  },
  {
   "cell_type": "markdown",
   "metadata": {},
   "source": [
    "<img src=\"img/mega.jpg\"/>"
   ]
  },
  {
   "cell_type": "markdown",
   "metadata": {},
   "source": [
    "## Fonte de Dados\n",
    "\n",
    "Recuperamos o histórico de todos os sorteios da Mega-Sena desde seu lançamento, em 1996."
   ]
  },
  {
   "cell_type": "code",
   "execution_count": 1,
   "metadata": {},
   "outputs": [],
   "source": [
    "import pandas as pd"
   ]
  },
  {
   "cell_type": "code",
   "execution_count": 2,
   "metadata": {},
   "outputs": [
    {
     "data": {
      "text/html": [
       "<div>\n",
       "<style scoped>\n",
       "    .dataframe tbody tr th:only-of-type {\n",
       "        vertical-align: middle;\n",
       "    }\n",
       "\n",
       "    .dataframe tbody tr th {\n",
       "        vertical-align: top;\n",
       "    }\n",
       "\n",
       "    .dataframe thead th {\n",
       "        text-align: right;\n",
       "    }\n",
       "</style>\n",
       "<table border=\"1\" class=\"dataframe\">\n",
       "  <thead>\n",
       "    <tr style=\"text-align: right;\">\n",
       "      <th></th>\n",
       "      <th>Concurso</th>\n",
       "      <th>Data</th>\n",
       "      <th>bola 1</th>\n",
       "      <th>bola 2</th>\n",
       "      <th>bola 3</th>\n",
       "      <th>bola 4</th>\n",
       "      <th>bola 5</th>\n",
       "      <th>bola 6</th>\n",
       "    </tr>\n",
       "  </thead>\n",
       "  <tbody>\n",
       "    <tr>\n",
       "      <th>0</th>\n",
       "      <td>2142</td>\n",
       "      <td>13/04/2019</td>\n",
       "      <td>44</td>\n",
       "      <td>50</td>\n",
       "      <td>52</td>\n",
       "      <td>57</td>\n",
       "      <td>7</td>\n",
       "      <td>40</td>\n",
       "    </tr>\n",
       "    <tr>\n",
       "      <th>1</th>\n",
       "      <td>2141</td>\n",
       "      <td>10/04/2019</td>\n",
       "      <td>10</td>\n",
       "      <td>19</td>\n",
       "      <td>11</td>\n",
       "      <td>37</td>\n",
       "      <td>41</td>\n",
       "      <td>17</td>\n",
       "    </tr>\n",
       "    <tr>\n",
       "      <th>2</th>\n",
       "      <td>2140</td>\n",
       "      <td>06/04/2019</td>\n",
       "      <td>20</td>\n",
       "      <td>54</td>\n",
       "      <td>36</td>\n",
       "      <td>17</td>\n",
       "      <td>42</td>\n",
       "      <td>26</td>\n",
       "    </tr>\n",
       "    <tr>\n",
       "      <th>3</th>\n",
       "      <td>2139</td>\n",
       "      <td>03/04/2019</td>\n",
       "      <td>58</td>\n",
       "      <td>29</td>\n",
       "      <td>23</td>\n",
       "      <td>41</td>\n",
       "      <td>14</td>\n",
       "      <td>57</td>\n",
       "    </tr>\n",
       "    <tr>\n",
       "      <th>4</th>\n",
       "      <td>2138</td>\n",
       "      <td>30/03/2019</td>\n",
       "      <td>30</td>\n",
       "      <td>34</td>\n",
       "      <td>4</td>\n",
       "      <td>21</td>\n",
       "      <td>13</td>\n",
       "      <td>14</td>\n",
       "    </tr>\n",
       "  </tbody>\n",
       "</table>\n",
       "</div>"
      ],
      "text/plain": [
       "   Concurso        Data  bola 1  bola 2  bola 3  bola 4  bola 5  bola 6\n",
       "0      2142  13/04/2019      44      50      52      57       7      40\n",
       "1      2141  10/04/2019      10      19      11      37      41      17\n",
       "2      2140  06/04/2019      20      54      36      17      42      26\n",
       "3      2139  03/04/2019      58      29      23      41      14      57\n",
       "4      2138  30/03/2019      30      34       4      21      13      14"
      ]
     },
     "execution_count": 2,
     "metadata": {},
     "output_type": "execute_result"
    }
   ],
   "source": [
    "sorteios = pd.read_excel('sorteios-mega.xlsx')\n",
    "sorteios.head()"
   ]
  },
  {
   "cell_type": "code",
   "execution_count": 3,
   "metadata": {},
   "outputs": [],
   "source": [
    "sorteios.sort_values(by=['Concurso'], inplace=True)"
   ]
  },
  {
   "cell_type": "code",
   "execution_count": 4,
   "metadata": {},
   "outputs": [
    {
     "data": {
      "text/html": [
       "<div>\n",
       "<style scoped>\n",
       "    .dataframe tbody tr th:only-of-type {\n",
       "        vertical-align: middle;\n",
       "    }\n",
       "\n",
       "    .dataframe tbody tr th {\n",
       "        vertical-align: top;\n",
       "    }\n",
       "\n",
       "    .dataframe thead th {\n",
       "        text-align: right;\n",
       "    }\n",
       "</style>\n",
       "<table border=\"1\" class=\"dataframe\">\n",
       "  <thead>\n",
       "    <tr style=\"text-align: right;\">\n",
       "      <th></th>\n",
       "      <th>Concurso</th>\n",
       "      <th>Data</th>\n",
       "      <th>bola 1</th>\n",
       "      <th>bola 2</th>\n",
       "      <th>bola 3</th>\n",
       "      <th>bola 4</th>\n",
       "      <th>bola 5</th>\n",
       "      <th>bola 6</th>\n",
       "    </tr>\n",
       "  </thead>\n",
       "  <tbody>\n",
       "    <tr>\n",
       "      <th>2141</th>\n",
       "      <td>1</td>\n",
       "      <td>11/03/1996</td>\n",
       "      <td>41</td>\n",
       "      <td>5</td>\n",
       "      <td>4</td>\n",
       "      <td>52</td>\n",
       "      <td>30</td>\n",
       "      <td>33</td>\n",
       "    </tr>\n",
       "    <tr>\n",
       "      <th>2140</th>\n",
       "      <td>2</td>\n",
       "      <td>18/03/1996</td>\n",
       "      <td>9</td>\n",
       "      <td>39</td>\n",
       "      <td>37</td>\n",
       "      <td>49</td>\n",
       "      <td>43</td>\n",
       "      <td>41</td>\n",
       "    </tr>\n",
       "    <tr>\n",
       "      <th>2139</th>\n",
       "      <td>3</td>\n",
       "      <td>25/03/1996</td>\n",
       "      <td>36</td>\n",
       "      <td>30</td>\n",
       "      <td>10</td>\n",
       "      <td>11</td>\n",
       "      <td>29</td>\n",
       "      <td>47</td>\n",
       "    </tr>\n",
       "    <tr>\n",
       "      <th>2138</th>\n",
       "      <td>4</td>\n",
       "      <td>01/04/1996</td>\n",
       "      <td>6</td>\n",
       "      <td>59</td>\n",
       "      <td>42</td>\n",
       "      <td>27</td>\n",
       "      <td>1</td>\n",
       "      <td>5</td>\n",
       "    </tr>\n",
       "    <tr>\n",
       "      <th>2137</th>\n",
       "      <td>5</td>\n",
       "      <td>08/04/1996</td>\n",
       "      <td>1</td>\n",
       "      <td>19</td>\n",
       "      <td>46</td>\n",
       "      <td>6</td>\n",
       "      <td>16</td>\n",
       "      <td>2</td>\n",
       "    </tr>\n",
       "  </tbody>\n",
       "</table>\n",
       "</div>"
      ],
      "text/plain": [
       "      Concurso        Data  bola 1  bola 2  bola 3  bola 4  bola 5  bola 6\n",
       "2141         1  11/03/1996      41       5       4      52      30      33\n",
       "2140         2  18/03/1996       9      39      37      49      43      41\n",
       "2139         3  25/03/1996      36      30      10      11      29      47\n",
       "2138         4  01/04/1996       6      59      42      27       1       5\n",
       "2137         5  08/04/1996       1      19      46       6      16       2"
      ]
     },
     "execution_count": 4,
     "metadata": {},
     "output_type": "execute_result"
    }
   ],
   "source": [
    "sorteios.head()"
   ]
  },
  {
   "cell_type": "markdown",
   "metadata": {},
   "source": [
    "## Qual a probabilidade esperada?\n",
    "\n",
    "Queremos analisar se os números tem a mesma chance de aparecer em um sorteio. Para que isso aconteça, assumimos que um número tem 6 chances de ocorrer em um sorteio, estando entre a 1ª e 6ª bola sorteada:"
   ]
  },
  {
   "cell_type": "code",
   "execution_count": 5,
   "metadata": {},
   "outputs": [
    {
     "data": {
      "text/plain": [
       "0.10444001920746823"
      ]
     },
     "execution_count": 5,
     "metadata": {},
     "output_type": "execute_result"
    }
   ],
   "source": [
    "prob = 1./60 + 1./59 + 1./58 + 1./57 + 1./56 + 1./55\n",
    "prob"
   ]
  },
  {
   "cell_type": "markdown",
   "metadata": {},
   "source": [
    "## Vamos testar?\n",
    "\n",
    "Abaixo, construiremos as probabilidades ao longo do tempo de cada número da Mega-Sena. Ou seja, verificaremos desde o primeiro concurso até o último, qual a probabilidade acumulada de cada número da sorte."
   ]
  },
  {
   "cell_type": "code",
   "execution_count": 6,
   "metadata": {},
   "outputs": [],
   "source": [
    "ls = []\n",
    "for i in range(1, 61):\n",
    "    qt = 0\n",
    "    ttl = 0\n",
    "    for j, linha in sorteios.iterrows():\n",
    "        if linha['bola 1'] == i or linha['bola 2'] == i or linha['bola 3'] == i or \\\n",
    "           linha['bola 4'] == i or linha['bola 5'] == i or linha['bola 6'] == i:\n",
    "            qt += 1\n",
    "        ttl += 1\n",
    "        ls.append({'numero': i, 'concurso': ttl, 'probabilidade': qt/float(ttl)})\n",
    "df = pd.DataFrame(ls)"
   ]
  },
  {
   "cell_type": "code",
   "execution_count": 7,
   "metadata": {},
   "outputs": [
    {
     "data": {
      "text/html": [
       "<div>\n",
       "<style scoped>\n",
       "    .dataframe tbody tr th:only-of-type {\n",
       "        vertical-align: middle;\n",
       "    }\n",
       "\n",
       "    .dataframe tbody tr th {\n",
       "        vertical-align: top;\n",
       "    }\n",
       "\n",
       "    .dataframe thead th {\n",
       "        text-align: right;\n",
       "    }\n",
       "</style>\n",
       "<table border=\"1\" class=\"dataframe\">\n",
       "  <thead>\n",
       "    <tr style=\"text-align: right;\">\n",
       "      <th></th>\n",
       "      <th>concurso</th>\n",
       "      <th>numero</th>\n",
       "      <th>probabilidade</th>\n",
       "    </tr>\n",
       "  </thead>\n",
       "  <tbody>\n",
       "    <tr>\n",
       "      <th>0</th>\n",
       "      <td>1</td>\n",
       "      <td>1</td>\n",
       "      <td>0.00</td>\n",
       "    </tr>\n",
       "    <tr>\n",
       "      <th>1</th>\n",
       "      <td>2</td>\n",
       "      <td>1</td>\n",
       "      <td>0.00</td>\n",
       "    </tr>\n",
       "    <tr>\n",
       "      <th>2</th>\n",
       "      <td>3</td>\n",
       "      <td>1</td>\n",
       "      <td>0.00</td>\n",
       "    </tr>\n",
       "    <tr>\n",
       "      <th>3</th>\n",
       "      <td>4</td>\n",
       "      <td>1</td>\n",
       "      <td>0.25</td>\n",
       "    </tr>\n",
       "    <tr>\n",
       "      <th>4</th>\n",
       "      <td>5</td>\n",
       "      <td>1</td>\n",
       "      <td>0.40</td>\n",
       "    </tr>\n",
       "  </tbody>\n",
       "</table>\n",
       "</div>"
      ],
      "text/plain": [
       "   concurso  numero  probabilidade\n",
       "0         1       1           0.00\n",
       "1         2       1           0.00\n",
       "2         3       1           0.00\n",
       "3         4       1           0.25\n",
       "4         5       1           0.40"
      ]
     },
     "execution_count": 7,
     "metadata": {},
     "output_type": "execute_result"
    }
   ],
   "source": [
    "df.loc[df['numero'] == 1].head()"
   ]
  },
  {
   "cell_type": "code",
   "execution_count": 8,
   "metadata": {},
   "outputs": [
    {
     "data": {
      "text/html": [
       "<div>\n",
       "<style scoped>\n",
       "    .dataframe tbody tr th:only-of-type {\n",
       "        vertical-align: middle;\n",
       "    }\n",
       "\n",
       "    .dataframe tbody tr th {\n",
       "        vertical-align: top;\n",
       "    }\n",
       "\n",
       "    .dataframe thead th {\n",
       "        text-align: right;\n",
       "    }\n",
       "</style>\n",
       "<table border=\"1\" class=\"dataframe\">\n",
       "  <thead>\n",
       "    <tr style=\"text-align: right;\">\n",
       "      <th></th>\n",
       "      <th>concurso</th>\n",
       "      <th>numero</th>\n",
       "      <th>probabilidade</th>\n",
       "    </tr>\n",
       "  </thead>\n",
       "  <tbody>\n",
       "    <tr>\n",
       "      <th>2137</th>\n",
       "      <td>2138</td>\n",
       "      <td>1</td>\n",
       "      <td>0.099626</td>\n",
       "    </tr>\n",
       "    <tr>\n",
       "      <th>2138</th>\n",
       "      <td>2139</td>\n",
       "      <td>1</td>\n",
       "      <td>0.099579</td>\n",
       "    </tr>\n",
       "    <tr>\n",
       "      <th>2139</th>\n",
       "      <td>2140</td>\n",
       "      <td>1</td>\n",
       "      <td>0.099533</td>\n",
       "    </tr>\n",
       "    <tr>\n",
       "      <th>2140</th>\n",
       "      <td>2141</td>\n",
       "      <td>1</td>\n",
       "      <td>0.099486</td>\n",
       "    </tr>\n",
       "    <tr>\n",
       "      <th>2141</th>\n",
       "      <td>2142</td>\n",
       "      <td>1</td>\n",
       "      <td>0.099440</td>\n",
       "    </tr>\n",
       "  </tbody>\n",
       "</table>\n",
       "</div>"
      ],
      "text/plain": [
       "      concurso  numero  probabilidade\n",
       "2137      2138       1       0.099626\n",
       "2138      2139       1       0.099579\n",
       "2139      2140       1       0.099533\n",
       "2140      2141       1       0.099486\n",
       "2141      2142       1       0.099440"
      ]
     },
     "execution_count": 8,
     "metadata": {},
     "output_type": "execute_result"
    }
   ],
   "source": [
    "df.loc[df['numero'] == 1].tail()"
   ]
  },
  {
   "cell_type": "markdown",
   "metadata": {},
   "source": [
    "## Tá, mas e daí???\n",
    "\n",
    "O resultado acima mostra o efeito da **Lei dos Grandes Números** (LGN) de *Chebyshev*:\n",
    "\n",
    "Considerando $X_1, X_2, ...$ uma sequência infinita de variáveis aleatórias i.i.d. com valor esperado $E(X_1) = E(X_2) = ... = \\mu$, ambas as versões da LGN determinam quase certamente que a média da amostra \n",
    "\n",
    "\\begin{equation*}\n",
    "\\bar{X_n} = \\frac{1}{n}(X_1 + ... + X_n)\n",
    "\\end{equation*}\n",
    "\n",
    "converge para o valor esperado \n",
    "\n",
    "$\\bar{X_n} \\rightarrow \\mu$ quando $n \\rightarrow \\infty$.\n",
    "\n",
    "\n",
    "\n",
    "\n",
    "**Da LGN deduz–se que a probabilidade empírica de sucesso em uma série de uma distribuição de Bernoulli irá convergir para a probabilidade teórica.**\n",
    "\n",
    "Fonte: [Wikipédia](https://pt.wikipedia.org/wiki/Lei_dos_grandes_n%C3%BAmeros), em 16/04/2017"
   ]
  },
  {
   "cell_type": "markdown",
   "metadata": {},
   "source": [
    "## Não entendi! Desenha pra mim!\n",
    "\n",
    "O gráfico abaixo mostra a evolução da probabilidade de um número da sorte, ao longo de todos os sorteios da Mega-Sena. Podemos observar que a aparição do número 01 tende para a probabilidade teórica (0,104), à medida que mais sorteios vão acontecendo. Essa estabilização acontece com todos os números: testa aí!"
   ]
  },
  {
   "cell_type": "code",
   "execution_count": 10,
   "metadata": {},
   "outputs": [
    {
     "data": {
      "image/png": "[encoded data removed]",
      "text/plain": [
       "<Figure size 720x504 with 1 Axes>"
      ]
     },
     "metadata": {},
     "output_type": "display_data"
    }
   ],
   "source": [
    "df.loc[df['numero'] == 1, 'probabilidade'].plot(figsize=(10,7));"
   ]
  }
 ],
 "metadata": {
  "kernelspec": {
   "display_name": "Python 3",
   "language": "python",
   "name": "python3"
  },
  "language_info": {
   "codemirror_mode": {
    "name": "ipython",
    "version": 3
   },
   "file_extension": ".py",
   "mimetype": "text/x-python",
   "name": "python",
   "nbconvert_exporter": "python",
   "pygments_lexer": "ipython3",
   "version": "3.6.5"
  }
 },
 "nbformat": 4,
 "nbformat_minor": 2
}
